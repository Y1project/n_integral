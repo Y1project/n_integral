{
 "cells": [
  {
   "cell_type": "markdown",
   "metadata": {},
   "source": [
    "# Relativity seminar-2 Python homework: Simulation of a neutrino beam\n",
    "\n",
    "This notebook will guide you through writing Python code to simulate a neutrino beam produced by bombardment of a graphite target. \n",
    "\n",
    "Read the first three pages in the PDF instructions before starting.  Starting from section 1 in the PDF instructions (on page 4), the notebook below contains all the same guidance as in those instructions, plus a few more specific hints.\n",
    "\n",
    "Two main components of neutrino flux come from two-body decays of charged pions and charged kaons."
   ]
  },
  {
   "cell_type": "markdown",
   "metadata": {},
   "source": [
    "## 1. PARENT PARTICLE REST FRAME\n",
    "First, let's focus on $\\nu_\\mu$ production in the parent particle rest frame.\n",
    "    \n",
    "Consider a generic 2-body decay $A \\rightarrow B + C$ with masses $m_A$, $m_B$, $m_C$. You should have already thought through all the physics of this in the seminar.\n",
    "    \n",
    "### 1.1 Write a function which calculates the energy of the product particle $C$ in the rest frame of the parent particle."
   ]
  },
  {
   "cell_type": "code",
   "execution_count": 28,
   "metadata": {},
   "outputs": [],
   "source": [
    "import numpy as np\n",
    "import scipy as sp\n",
    "\n",
    "c = 3e8\n",
    "c_n = 1\n",
    "m_pi = 140e6\n",
    "m_K = 490e6\n",
    "m_mu = 105e6\n",
    "m_nu = 500 #units eV/c^2 for all of the masses\n",
    "\n",
    "m_pi_m = 140\n",
    "m_K_m = 490\n",
    "m_mu_m = 105\n",
    "m_nu_m = 5e-4\n",
    "\n",
    "m_pi_g = 0.14\n",
    "m_K_g = 0.49\n",
    "m_mu_g = 0.105\n",
    "m_nu_g = 5e-7 #units of GeV/c^2 for all the masses\n",
    "\n",
    "def E_c(m_a,m_b,m_c):\n",
    "    E_c = (m_a**2+m_b**2-m_c**2)*c_n**2/(2*m_a)\n",
    "    return E_c \n"
   ]
  },
  {
   "cell_type": "markdown",
   "metadata": {},
   "source": [
    "### 1.2 Use this function to calculate the energy of the $\\nu_\\mu$ in the parent-particle rest frame: Enu\\_rf\\_pi for the pion decay and Enu\\_rf\\_K for the kaon decay, in units of GeV."
   ]
  },
  {
   "cell_type": "code",
   "execution_count": 42,
   "metadata": {},
   "outputs": [
    {
     "name": "stdout",
     "output_type": "stream",
     "text": [
      "The neutrino produced in the pion decay is:  0.030625000000892875 GeV\n"
     ]
    }
   ],
   "source": [
    "Enu_rf_pi_g = E_c(m_pi_g,m_nu_g,m_mu_g)\n",
    "print('The neutrino produced in the pion decay is: ',Enu_rf_pi_g,'GeV')\n"
   ]
  },
  {
   "cell_type": "code",
   "execution_count": 43,
   "metadata": {},
   "outputs": [
    {
     "name": "stdout",
     "output_type": "stream",
     "text": [
      "The neutrino produced in the Kaon decay is:  0.23375000000025506 GeV\n"
     ]
    }
   ],
   "source": [
    "Enu_rf_K_g = E_c(m_K_g,m_nu_g,m_mu_g)\n",
    "print('The neutrino produced in the Kaon decay is: ',Enu_rf_K_g,'GeV')"
   ]
  },
  {
   "cell_type": "markdown",
   "metadata": {},
   "source": [
    "### 1.3 Write a function to calculate the 3-momentum (again in the parent-particle rest frame) of particle $C$ as a function of polar angle $\\theta$ with respect to the $z$-axis and azimuthal angle $\\phi$.\n",
    "##### Hint: use numpy arrays"
   ]
  },
  {
   "cell_type": "code",
   "execution_count": 46,
   "metadata": {},
   "outputs": [
    {
     "name": "stdout",
     "output_type": "stream",
     "text": [
      "nan\n"
     ]
    },
    {
     "name": "stderr",
     "output_type": "stream",
     "text": [
      "//anaconda3/lib/python3.7/site-packages/ipykernel_launcher.py:2: RuntimeWarning: invalid value encountered in sqrt\n",
      "  \n"
     ]
    }
   ],
   "source": [
    "def momentum(E,m):\n",
    "    p = (np.sqrt(E**2 - m**2))/c\n",
    "    return p\n",
    "\n",
    "def three_momentum(p,phi,theta):\n",
    "    px = p*np.sin(theta)*np.cos(phi)\n",
    "    py = p*np.sin(theta)*np.sin(phi)\n",
    "    pz = p*np.cos(theta)\n",
    "    return np.array([px,py,pz])"
   ]
  },
  {
   "cell_type": "markdown",
   "metadata": {},
   "source": [
    "### 1.4 Use the functions above to calculate the 3-momentum of $\\nu$ for both the $\\pi$ decay and the $K$ decay in the parent-particle rest frame, for a particular value of $\\theta$ of your choice and assuming the decay happens on the plane $x = 0$."
   ]
  },
  {
   "cell_type": "markdown",
   "metadata": {},
   "source": [
    "Hint: You should find that neutrinos with $\\theta=\\pi/6$ have 3-momentum $z$-component $p_z=26.5$ MeV/$c$ for the $\\pi$ decay and $p_z=202.4$ MeV/$c$ for the $K$ decay."
   ]
  },
  {
   "cell_type": "code",
   "execution_count": 19,
   "metadata": {},
   "outputs": [
    {
     "name": "stdout",
     "output_type": "stream",
     "text": [
      "7.791666666675169e-07\n",
      "[7.15652973e-15 1.16875000e+02 2.02433438e+02]\n"
     ]
    }
   ],
   "source": [
    "p_pi = momentum(Enu_rf_K*1000, m_nu_g)\n",
    "print(p_pi)\n",
    "\n",
    "print((three_momentum(p_pi,(np.pi)/2,(np.pi)/6))*c)\n"
   ]
  },
  {
   "cell_type": "markdown",
   "metadata": {},
   "source": [
    "### 1.5 Write a function that takes as its inputs the energy and 3-momentum of a particle $C$ and returns the 4-momentum. You will use this in the next parts\n",
    "##### Hint: look up the function insert for numpy arrays"
   ]
  },
  {
   "cell_type": "code",
   "execution_count": 36,
   "metadata": {},
   "outputs": [
    {
     "name": "stdout",
     "output_type": "stream",
     "text": [
      "1.0\n"
     ]
    },
    {
     "name": "stderr",
     "output_type": "stream",
     "text": [
      "//anaconda3/lib/python3.7/site-packages/ipykernel_launcher.py:3: DeprecationWarning: in the future the special handling of scalars will be removed from insert and raise an error\n",
      "  This is separate from the ipykernel package so we can avoid doing imports until\n"
     ]
    }
   ],
   "source": [
    "def four_momentum(E,p):\n",
    "    pc = p*c\n",
    "    pc = np.insert(pc, 0, E, axis = 0)\n",
    "    return pc\n",
    "\n",
    "a = four_momentum(1,1e-8)\n",
    "print(a)"
   ]
  },
  {
   "cell_type": "markdown",
   "metadata": {},
   "source": [
    "## 2. LAB FRAME\n",
    "Now let's think about the same quantities in the lab frame. Assume the $\\pi$ and $K$ are travelling in the lab frame with energy 1 GeV in direction $+z$.\n",
    "### 2.1 Write a function which returns the value of $\\beta = v/c$ for a particle travelling at velocity $v$ in a given frame, given the mass and energy of the particle in that frame."
   ]
  },
  {
   "cell_type": "code",
   "execution_count": 21,
   "metadata": {},
   "outputs": [],
   "source": [
    "def beta(E,m):\n",
    "    beta = np.sqrt(1-(m/E)**2)\n",
    "    return beta"
   ]
  },
  {
   "cell_type": "markdown",
   "metadata": {},
   "source": [
    "### 2.2 Write a function which allows you to boost a 4-momentum along the positive z-axis"
   ]
  },
  {
   "cell_type": "code",
   "execution_count": 24,
   "metadata": {},
   "outputs": [],
   "source": [
    "def boosted_fourmomentum(four_momentum, beta):\n",
    "    gamma = 1/sp.sqrt(1-beta**2)\n",
    "    Epri = gamma*(four_momentum[0]-beta*four_momentum[3])\n",
    "    pzpri = gamma*(four_momentum[3]-beta*four_momentum[0])\n",
    "    transformed = sp.array([Epri,four_momentum[1],pzpri])\n",
    "    return transformed\n"
   ]
  },
  {
   "cell_type": "markdown",
   "metadata": {},
   "source": [
    "### 2.3 Calculate the value of $\\beta$ of the lab frame as seen by the parent-particle rest frame using 2.1, for each of the two 1-GeV parent particles.\n",
    "##### NOTE: Be careful with the signs!"
   ]
  },
  {
   "cell_type": "code",
   "execution_count": 33,
   "metadata": {},
   "outputs": [
    {
     "name": "stdout",
     "output_type": "stream",
     "text": [
      "-0.9901515035589251\n",
      "-0.8717224328879004\n"
     ]
    }
   ],
   "source": [
    "beta_pi = beta(1, m_pi_g)*(-1) #when converting from rest from to lab frame, v in the +z direction, so backwards is -z\n",
    "print(beta_pi)\n",
    "\n",
    "beta_K = beta(1, m_K_g)*(-1)\n",
    "print(beta_K)"
   ]
  },
  {
   "cell_type": "markdown",
   "metadata": {},
   "source": [
    "### 2.4 For each of the two parent particles, calculate the 4-momenta of the product neutrinos boosted into the lab frame. \n",
    "Hint: a quick check that the boost is correct is to verify that the rest mass, or the 4-momentum squared, is invariant.\n"
   ]
  },
  {
   "cell_type": "code",
   "execution_count": 32,
   "metadata": {},
   "outputs": [
    {
     "name": "stdout",
     "output_type": "stream",
     "text": [
      "0.030625000000892875\n"
     ]
    },
    {
     "name": "stderr",
     "output_type": "stream",
     "text": [
      "//anaconda3/lib/python3.7/site-packages/ipykernel_launcher.py:3: DeprecationWarning: in the future the special handling of scalars will be removed from insert and raise an error\n",
      "  This is separate from the ipykernel package so we can avoid doing imports until\n"
     ]
    }
   ],
   "source": [
    "momentum_pi = momentum(1,m_pi_g)\n",
    "momentum_K = momentum(1,m_K_g)\n",
    "\n",
    "four_momentum_pi = four_momentum(Enu_rf_pi,momentum_pi)\n",
    "print(four_momentum_pi)\n",
    "four_momentum_K = four_momentum(1,momentum_K)"
   ]
  },
  {
   "cell_type": "code",
   "execution_count": null,
   "metadata": {},
   "outputs": [],
   "source": []
  },
  {
   "cell_type": "markdown",
   "metadata": {},
   "source": [
    "### 2.5 Use the functions you have written to make a function find4mtm\\_C\\_lf(mA,mB,mC,theta,phi,EA) \n",
    "which returns a four-element array of the four-momentum [$E$,$pc$] of the product particle $C$ in the lab frame, with $E$ and $pc$ both in units of MeV ($p$ is the 3-momentum in Cartesian coordinates), where the inputs are the particle masses mA, mB and mC in units of MeV/$c^2$, theta and phi, the angles $\\theta$ and $\\phi$ already described and EA, the parent-particle energy in the lab frame in GeV."
   ]
  },
  {
   "cell_type": "code",
   "execution_count": null,
   "metadata": {},
   "outputs": [],
   "source": []
  },
  {
   "cell_type": "markdown",
   "metadata": {},
   "source": [
    "### 2.6 Compute the difference between the momentum vectors for the product muon in the lab frame and the rest frame. Compute the same difference for the neutrino.\n",
    "(You could use the function you have just defined.) \n",
    "\n",
    "What value would you have expected for this if you didn't know about special relativity? \n",
    "\n",
    "(You could find the velocities too and do the same comparison --- check your lecture notes for lecture 7 to remind yourself how the velocity is related to $p$ and $E$ in relativity!)"
   ]
  },
  {
   "cell_type": "code",
   "execution_count": null,
   "metadata": {},
   "outputs": [],
   "source": []
  },
  {
   "cell_type": "markdown",
   "metadata": {},
   "source": [
    "### 2.7 What are the maximum and minimum values of the energy the product neutrino can have, in the lab frame? \n",
    "##### Hint: think of $\\theta$\n",
    "Define four variables Enu\\_lf\\_pi\\_min, Enu\\_lf\\_pi\\_max, Enu\\_lf\\_K\\_min and Enu\\_lf\\_K\\_min to contain these values, in units of GeV."
   ]
  },
  {
   "cell_type": "code",
   "execution_count": null,
   "metadata": {},
   "outputs": [],
   "source": []
  },
  {
   "cell_type": "code",
   "execution_count": null,
   "metadata": {},
   "outputs": [],
   "source": []
  },
  {
   "cell_type": "markdown",
   "metadata": {},
   "source": [
    "## 3. ENERGY DISTRIBUTIONS"
   ]
  },
  {
   "cell_type": "markdown",
   "metadata": {},
   "source": [
    "Let's generalise what you have found for different angles theta\n",
    "\n",
    "First, think: what are the allowed $\\theta_{rf}$ values (in the parent-particle rest frame) in this decay?"
   ]
  },
  {
   "cell_type": "code",
   "execution_count": null,
   "metadata": {},
   "outputs": [],
   "source": []
  },
  {
   "cell_type": "markdown",
   "metadata": {},
   "source": [
    "### 3.1 Create a plot of the distribution of energies in the lab frame of the product neutrinos as a function of $\\theta$, assuming the parent particle has energy 1 GeV in the lab frame. Also look at the histogram of the energies."
   ]
  },
  {
   "cell_type": "markdown",
   "metadata": {},
   "source": [
    "#### a) You can approach this problem in several ways; a natural one is to pick the angle $\\theta$ as a random variable many times, until you have a clear picture of the distribution.\n",
    "To do this, import numpy and use np.random.rand() in one of two ways:\n",
    "1. with theta = np.random.rand() in a while or for loop, appending each value to a list, or \n",
    "2. by generating an array of random numbers in a single step.\n",
    "#### Familiarise yourself with using the rand() function before pressing on."
   ]
  },
  {
   "cell_type": "code",
   "execution_count": null,
   "metadata": {},
   "outputs": [],
   "source": [
    "import numpy as np\n",
    "import matplotlib.pyplot as plt\n",
    "\n",
    "## First, some example code, showing how rand() works:\n",
    "\n",
    "# np.random.rand() will return a random number between 0 and 1\n",
    "print(np.random.rand())\n",
    "\n",
    "# adding an amplitude A in front will return a random number between 0 and A, e.g.: \n",
    "print(np.pi * np.random.rand())\n",
    "# returns a random number between 0 and PI\n",
    "\n",
    "#include an argument in the function call to generate an array of that size\n",
    "print(np.pi * np.random.rand(20)) #20-element array\n",
    "\n",
    "\n",
    "#LOOP METHOD\n",
    "#Example code for doing it this way is below\n",
    "#but notice how doing it with an array requires less code; it also runs more quickly!)\n",
    "#\n",
    "### create an empty list to store your random numbers in:\n",
    "#random = []\n",
    "#\n",
    "### run a for loop which creates random numbers with A = np.pi and appends each new value to the list above\n",
    "#for idx in range(1000):\n",
    "#    random.append(np.pi * np.random.rand())\n",
    "\n",
    "#ARRAY METHOD\n",
    "random=np.pi * np.random.rand(1000)\n",
    "\n",
    "## plot the output list\n",
    "import matplotlib.pyplot as plt\n",
    "\n",
    "plt.plot(random)\n",
    "plt.xlabel('index')\n",
    "plt.ylabel('Random number')\n",
    "plt.show()\n",
    "\n",
    "## make a histogram of the list\n",
    "\n",
    "# the function plt.hist() will make a histogram of the argument; you may select the number of bins\n",
    "plt.hist(random, bins = 100)\n",
    "plt.xlabel('Random number')\n",
    "plt.ylabel('N')\n",
    "plt.show()\n",
    "# as expected, the histogram looks like a flat distribution"
   ]
  },
  {
   "cell_type": "markdown",
   "metadata": {},
   "source": [
    "#### b) If you are using an array of $\\theta$ values, calculate energy_nu_lab for both decays.  If any of the functions you need to use from the previous section do not work for array inputs, write a modified versions which do work with array inputs.\n",
    "#### (Alternatively, if you are using a loop, write a loop which will sample $\\theta$ in its range with rand(), saving each value of $\\theta$ and the associated value of energy_nu_lab for both decays.)"
   ]
  },
  {
   "cell_type": "code",
   "execution_count": null,
   "metadata": {},
   "outputs": [],
   "source": []
  },
  {
   "cell_type": "markdown",
   "metadata": {},
   "source": [
    "#### c) Create plots for both decays of the energy of the product neutrino in the lab frame, Enu_lf, as a function of $\\theta$. What function is it? "
   ]
  },
  {
   "cell_type": "markdown",
   "metadata": {},
   "source": [
    "##### hint: use plt.scatter() to plot single dots, as opposed to plt.plot() which will connect dots with a line!"
   ]
  },
  {
   "cell_type": "code",
   "execution_count": null,
   "metadata": {},
   "outputs": [],
   "source": []
  },
  {
   "cell_type": "markdown",
   "metadata": {},
   "source": [
    "#### d) create plots for both decays of the histograms of the Enu_lf"
   ]
  },
  {
   "cell_type": "code",
   "execution_count": null,
   "metadata": {},
   "outputs": [],
   "source": []
  },
  {
   "cell_type": "markdown",
   "metadata": {},
   "source": [
    "### 3.2 In this final part, you'll create a histogram plot of the distribution of energies of the product neutrinos in the lab frame. \n",
    "We'll assume the momenta of the $\\pi$ and $K$ beams follow the log-normal distribution, and that there are 10$\\times$ more $\\pi$ decays than $K$ decays in the beam. \n",
    "\n",
    "A function to generate a log-normal momentum distribution is defined by the code provided in the next cell.  This is already complete; you do not need to edit it; in fact, feel free to just run this without looking at how it works in detail.  It defines a function generate_log_normal_array, which can be used as described in the cells below this one.\n",
    "\n",
    "##### NOTE: the distribution generator returns values of the momentum in units of GeV/c!"
   ]
  },
  {
   "cell_type": "code",
   "execution_count": null,
   "metadata": {},
   "outputs": [],
   "source": [
    "#import numpy as np\n",
    "\n",
    "def log_normal2(x, mu=0, sigma=1):\n",
    "    \"\"\"\n",
    "    Log normal PDF, depends on parameters mu and sigma, which are analogous to the \n",
    "    mu and sigma parameters of the Gaussian distribution\n",
    "    \"\"\"\n",
    "    if type(x)!=np.ndarray:\n",
    "        if x <=0 :\n",
    "            return 0\n",
    "        else:\n",
    "            return np.exp(- 0.5 * ((np.log(x) - mu) / sigma)**2) / (x * sigma * np.sqrt(2 * np.pi))\n",
    "    else:\n",
    "        x[x<=0]=1e-40 #replace zero or negative values with \n",
    "        return np.exp(- 0.5 * ((np.log(x) - mu) / sigma)**2) / (x * sigma * np.sqrt(2 * np.pi))\n",
    "\n",
    "def log_normal_max(mu=0, sigma=1):\n",
    "    \"\"\"\n",
    "    Returns the mode (= x max value) of the log-normal distribution\n",
    "    \"\"\"\n",
    "    return np.exp(mu - sigma**2)\n",
    "\n",
    "def generate_log_normal_array(x_min, x_max, mu=0, sigma=1, Narray=1):\n",
    "    \"\"\"\n",
    "    This function yields an array of values of x in the interval [x_min; x_max] distributed according\n",
    "    to a log-normal distribution as defined in log_normal(x, mu, sigma)\n",
    "    The array is of length Narray\n",
    "    \"\"\"\n",
    "    pxvals=[]\n",
    "    ymax = log_normal2(log_normal_max(mu,sigma), mu, sigma)\n",
    "    lenout=0\n",
    "    Nchunk=Narray\n",
    "    while lenout<Narray:\n",
    "        px = (x_max - x_min) * np.random.rand(Nchunk) + x_min\n",
    "        py = np.random.rand(Nchunk) * ymax\n",
    "        lognormx=log_normal2(px, mu, sigma)   \n",
    "        pxvals=np.append(pxvals,px[lognormx>py])\n",
    "        lenout=len(pxvals)\n",
    "    return pxvals[:Narray]"
   ]
  },
  {
   "cell_type": "markdown",
   "metadata": {},
   "source": [
    "#### a) The code below shows how to use this code to generate a momentum distribution. Make yourself familiar with how the function is used before continuing:"
   ]
  },
  {
   "cell_type": "code",
   "execution_count": null,
   "metadata": {},
   "outputs": [],
   "source": [
    "# use these values of sigma and mu throughout\n",
    "sigma_pi = 0.375\n",
    "sigma_K  = 0.5 \n",
    "mu       = 0.25\n",
    "\n",
    "# min and max values for energy\n",
    "E_min = 0. #GeV\n",
    "E_max = 6. #GeV\n",
    "\n",
    "#the function takes an input argument n_samples: the number of values you want to generate in each call\n",
    "n_samples = 1000\n",
    "\n",
    "#distribution of momentum values for pi decay\n",
    "mtm_distrib_E=generate_log_normal_array(E_min, E_max, mu, sigma_pi, n_samples)\n",
    "#distribution of momentum values for K decay\n",
    "#mtm_distrib_E=generate_log_normal_array(E_min, E_max, mu, sigma_K, n_samples)\n",
    "   \n",
    "plt.plot(mtm_distrib_E)\n",
    "plt.xlabel('index')\n",
    "plt.ylabel('p_pi (GeV/c)')\n",
    "plt.show()\n",
    "plt.close()\n",
    "\n",
    "plt.hist(mtm_distrib_E, bins = 100)\n",
    "plt.xlabel('p_pi (GeV/c)')\n",
    "plt.ylabel('N')\n",
    "plt.title('Momentum distribution of pi particles')\n",
    "plt.show()"
   ]
  },
  {
   "cell_type": "markdown",
   "metadata": {},
   "source": [
    "#### b) Repeat the process you carried out in 3.1, but this time drawing the energy of the parent particles from the distribution at each iteration in the loop, and computing the values of Enu_lf for each $\\theta$ value. Remember to still keep the value of $\\theta$ random! Finally, plot the histogram of the energies of the product neutrinos. \n",
    "##### Hint: you will need to choose a sufficiently large number of events to run the process for in order to build up the distribution"
   ]
  },
  {
   "cell_type": "code",
   "execution_count": null,
   "metadata": {},
   "outputs": [],
   "source": []
  },
  {
   "cell_type": "markdown",
   "metadata": {},
   "source": [
    "#### c) Now plot additional histograms, so that you have one for $\\pi$ decays only, another for K decays only, and another with all the events for both decays. Can you plot these on the same histogram?\n",
    "\n",
    "Of course, in a real experiment you would measure events from both types of decay together. \n",
    "How could you differentiate between the $\\pi $ neutrinos and the K neutrinos? \n",
    "##### Hint: remember you need to use different numbers of events for the two decays."
   ]
  },
  {
   "cell_type": "code",
   "execution_count": null,
   "metadata": {},
   "outputs": [],
   "source": []
  },
  {
   "cell_type": "markdown",
   "metadata": {},
   "source": [
    "Assuming 100000 $\\pi$ decays and 10000 $K$ decays, plot the neutrino energy distributions in the lab frame for the two parent-particle decays separately, and also the distribution for decays from both types of parent particles. Plot each distribution as a histogram, using 100 bins between 0 and 6 GeV: plot the three distributions on the same graph, i.e. like the graph for the MiniBooNE experiment shown at the start; also like that graph, use a logarithmic scale for the $y$-axis.\n",
    "Your plot should end up looking quite similar to the one from the MiniBooNE experiment.\n",
    "\n",
    "Extract the histogram $y$-data for all the decays from both types of parent particle into a 1-D numpy array called Nevents; this will have 100 elements, with each element containing the number of decays in one energy bin."
   ]
  },
  {
   "cell_type": "code",
   "execution_count": null,
   "metadata": {},
   "outputs": [],
   "source": []
  },
  {
   "cell_type": "markdown",
   "metadata": {},
   "source": [
    "You have now simulated the production of a neutrino beam from a graphite target!\n",
    "\n",
    "Before submitting your Jupyter notebook on Blackboard, run the cell below to check that your code uses the right names for the quantities that will be auto-marked and correct any problems."
   ]
  },
  {
   "cell_type": "code",
   "execution_count": null,
   "metadata": {},
   "outputs": [],
   "source": [
    "#The code below will pick up any errors you've made in naming your variables or the function or array that will be automarked.\n",
    "#Don't edit the names in this code!\n",
    "#\n",
    "print('Checking whether objects that will be automarked exist:')\n",
    "teststrs={\"Enu_rf_pi\",\"Enu_rf_K\",\"find4mtm_C_lf\",\"Enu_lf_pi_min\",\"Enu_lf_pi_max\",\"Enu_lf_K_min\",\"Enu_lf_K_max\",\"Nevents\"}\n",
    "\n",
    "for teststr in teststrs:\n",
    "    fnexists=teststr in dir()\n",
    "    if fnexists:\n",
    "        print('Found object: ',teststr)\n",
    "    else:\n",
    "        print('Warning: Did not find object: ',teststr)\n",
    "\n",
    "print('If not all objects have been found, please adjust the names used in your code\\n')\n",
    "\n",
    "try:\n",
    "    if len(Nevents)==100:\n",
    "        print('Nevents is an array of the correct size')\n",
    "    else:\n",
    "        print('Nevents should be an array with 100 elements. Please correct this.')\n",
    "except:\n",
    "    print('Problem with Nevents object. Please correct this.')\n",
    "    \n",
    "try:\n",
    "    a=find4mtm_C_lf(1.0,1.0,1.0,0.0,0.0,1.0) #argument values here are just dummy values to check the function runs\n",
    "    print('find4mtm_C_lf takes correct number of arguments')\n",
    "except:\n",
    "    print('Problem with argument list or execution of find4mtm_C_lf function.  Please correct this.')\n",
    "\n",
    "print('\\nBefore submitting your .ipynb file, please also check that all the quantities are also in the correct units.')"
   ]
  },
  {
   "cell_type": "code",
   "execution_count": null,
   "metadata": {},
   "outputs": [],
   "source": []
  }
 ],
 "metadata": {
  "kernelspec": {
   "display_name": "Python 3",
   "language": "python",
   "name": "python3"
  },
  "language_info": {
   "codemirror_mode": {
    "name": "ipython",
    "version": 3
   },
   "file_extension": ".py",
   "mimetype": "text/x-python",
   "name": "python",
   "nbconvert_exporter": "python",
   "pygments_lexer": "ipython3",
   "version": "3.7.3"
  }
 },
 "nbformat": 4,
 "nbformat_minor": 2
}
